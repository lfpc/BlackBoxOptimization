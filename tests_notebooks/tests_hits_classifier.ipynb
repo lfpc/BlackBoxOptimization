{
 "cells": [
  {
   "cell_type": "code",
   "execution_count": 1,
   "id": "710fdb3c",
   "metadata": {},
   "outputs": [],
   "source": [
    "import torch\n",
    "import matplotlib.pyplot as plt\n",
    "import sys\n",
    "import os\n",
    "sys.path.append(os.path.abspath(os.path.join('..', 'src')))\n",
    "from optimizer import LGSO, LCSO, normalize_vector\n",
    "from problems import ShipMuonShield, make_index, ShipMuonShieldCuda\n",
    "import torch\n",
    "import pickle\n",
    "import numpy as np\n",
    "import time\n",
    "from tqdm import trange"
   ]
  },
  {
   "cell_type": "code",
   "execution_count": 2,
   "id": "eac852ba",
   "metadata": {},
   "outputs": [],
   "source": [
    "dim = (\n",
    "    make_index(0, [0,1,2,4,6,8,12,14]) +\n",
    "    make_index(1, [0,1,2,3,4,5,6,7,8,9,14]) +\n",
    "    make_index(2, [0,1,2,3,4,5,6,7,8,9,14]) +\n",
    "    make_index(3, [0,1,2,3,4,5,6,7,8,9,14]) +\n",
    "    make_index(4, [0,1,2,3,4,5,6,7,8,9,12,14]) +\n",
    "    make_index(5, [0,1,2,3,4,5,6,7,8,9,12,14]) +\n",
    "    make_index(6, [0,1,2,3,4,5,6,7,8,9,12,14]))\n",
    "\n",
    "initial_phi = torch.tensor(ShipMuonShield.params[\"tokanut_v5\"])\n",
    "\n",
    "# Minimal ShipMuonShield setup for fast LGSO test\n",
    "problem = ShipMuonShieldCuda(\n",
    "            uniform_fields=False,  # No real field simulation\n",
    "            n_samples=0,       \n",
    "            apply_det_loss=False,  # Skip detector loss for speed\n",
    "            loss_fn='hits',\n",
    "            reduction='none',\n",
    "            cost_loss_fn=None,     # No cost penalty\n",
    "            dimensions_phi=dim,\n",
    "            initial_phi=initial_phi,\n",
    "            parallel = False,\n",
    "            fSC_mag = False,\n",
    "            use_B_goal = True,\n",
    "            muons_file = \"/home/hep/lprate/projects/MuonsAndMatter/data/muons/subsample_biased_v4.npy\",\n",
    "            fields_file = \"/home/hep/lprate/projects/MuonsAndMatter/data/outputs/fields_rob.h5\",\n",
    "            sensitive_plane = [{'dz': 0.01, 'dx': 4, 'dy': 6,'position': 82}]\n",
    "        )\n",
    "\n",
    "initial_phi = problem.initial_phi\n",
    "bounds = problem.GetBounds(device=torch.device('cpu'))"
   ]
  },
  {
   "cell_type": "code",
   "execution_count": 3,
   "id": "d0f5adba",
   "metadata": {},
   "outputs": [],
   "source": [
    "class BinaryClassifierModel:\n",
    "    \"\"\"\n",
    "    A wrapper class to handle training and prediction for a given binary classification model.\n",
    "    It is not an nn.Module itself, but it manages one.\n",
    "    \"\"\"\n",
    "    def __init__(self,\n",
    "                phi_dim: int,\n",
    "                 x_dim: int,\n",
    "                 n_epochs: int = 50,\n",
    "                 batch_size: int = 32,\n",
    "                 lr: float = 1e-3,\n",
    "                 device: str = 'cuda' if torch.cuda.is_available() else 'cpu'):\n",
    "        \n",
    "        self.device = device\n",
    "\n",
    "        self.model = torch.nn.Sequential(\n",
    "            torch.nn.Linear(phi_dim + x_dim, 256),\n",
    "            torch.nn.ReLU(),\n",
    "            torch.nn.Linear(256, 128),\n",
    "            torch.nn.ReLU(),\n",
    "            torch.nn.Linear(128, 64),\n",
    "            torch.nn.ReLU(),\n",
    "            torch.nn.Linear(64, 1)  # Output layer for binary classification\n",
    "        ).to(self.device)\n",
    "\n",
    "        self.n_epochs = n_epochs\n",
    "        self.batch_size = batch_size\n",
    "        self._lr = lr\n",
    "        # Use BCEWithLogitsLoss for better numerical stability. It combines Sigmoid and BCELoss.\n",
    "        self.loss_fn = torch.nn.BCEWithLogitsLoss() \n",
    "        self.last_train_loss = []\n",
    "\n",
    "    def fit(self, condition, y):\n",
    "        \"\"\"\n",
    "        Trains the classifier model.\n",
    "        \"\"\"\n",
    "        self.model.train() # Set the wrapped model to training mode\n",
    "        self.last_train_loss = []\n",
    "        \n",
    "        # Ensure y is the correct shape [batch_size, 1] and type for the loss function\n",
    "        y = y.view(-1, 1).float() \n",
    "\n",
    "        num_samples = y.size(0)\n",
    "        indices = torch.arange(num_samples)\n",
    "        \n",
    "        optimizer = torch.optim.Adam(self.model.parameters(), lr=self._lr)\n",
    "        scheduler = torch.optim.lr_scheduler.StepLR(optimizer, step_size=5, gamma=0.1)\n",
    "\n",
    "        print(f\"--- Starting Binary Classifier Training on {self.device} ---\")\n",
    "        pbar = trange(self.n_epochs, position=0, leave=True, desc='Classifier Training')\n",
    "\n",
    "        for epoch in pbar:\n",
    "            average_loss = 0.0\n",
    "            # Shuffle indices for each epoch\n",
    "            shuffled_indices = indices[torch.randperm(num_samples)]\n",
    "            \n",
    "            for start in range(0, num_samples, self.batch_size):\n",
    "                end = min(start + self.batch_size, num_samples)\n",
    "                batch_idx = shuffled_indices[start:end]\n",
    "                \n",
    "                y_batch = y[batch_idx].to(self.device)\n",
    "                condition_batch = condition[batch_idx].to(self.device)\n",
    "                optimizer.zero_grad()\n",
    "                \n",
    "                # Get model prediction (logits)\n",
    "                y_pred_logits = self.model(condition_batch)\n",
    "                \n",
    "                # Calculate loss\n",
    "                loss = self.loss_fn(y_pred_logits, y_batch)\n",
    "                \n",
    "                assert not torch.isnan(loss), \"Loss is NaN, check your model and data.\"\n",
    "                \n",
    "                loss.backward()\n",
    "                optimizer.step()\n",
    "                \n",
    "                average_loss += loss.item() * (end - start)\n",
    "            \n",
    "            average_loss /= num_samples\n",
    "            self.last_train_loss.append(average_loss)\n",
    "            scheduler.step()\n",
    "            \n",
    "            pbar.set_description(f\"Epoch {epoch+1}, Loss: {average_loss:.4f}\")\n",
    "            pbar.set_postfix(loss=f\"{average_loss:.4f}\", lr=f\"{optimizer.param_groups[0]['lr']:.6f}\")\n",
    "            \n",
    "        print(f\"Final training loss: {self.last_train_loss[-1]:.4f}\")\n",
    "        print(\"--- Binary Classifier Training Finished ---\")\n",
    "        return self\n",
    "\n",
    "    def predict_proba(self, condition):\n",
    "        \"\"\"\n",
    "        Predicts the probability of Y=1 for each given `phi` and `x`.\n",
    "        \"\"\"\n",
    "        self.model.eval()\n",
    "        condition = condition.to(self.device)\n",
    "        y_pred_logits = self.model(condition)\n",
    "        y_pred_prob = torch.sigmoid(y_pred_logits)\n",
    "        \n",
    "        return y_pred_prob"
   ]
  },
  {
   "cell_type": "code",
   "execution_count": 4,
   "id": "142f3937",
   "metadata": {},
   "outputs": [
    {
     "name": "stdout",
     "output_type": "stream",
     "text": [
      "File loaded in 27.5338 seconds.\n",
      "Data shape:  torch.Size([101, 5000000, 87]) torch.Size([101, 5000000, 1])\n"
     ]
    }
   ],
   "source": [
    "files_dir = \"/home/hep/lprate/projects/BlackBoxOptimization/tests_notebooks/\"\n",
    "start_time = time.time()\n",
    "local_info = (torch.from_numpy(np.load(files_dir + \"local_info_0.npy\")),\n",
    "              torch.from_numpy(np.load(files_dir + \"local_info_1.npy\")))\n",
    "print(f\"File loaded in {time.time() - start_time:.4f} seconds.\")\n",
    "print(\"Data shape: \", local_info[0].shape, local_info[1].shape)\n",
    "\n",
    "N = local_info[0].reshape(-1, 87).shape[0]"
   ]
  },
  {
   "cell_type": "code",
   "execution_count": 5,
   "id": "8d993571",
   "metadata": {},
   "outputs": [
    {
     "name": "stdout",
     "output_type": "stream",
     "text": [
      "--- Starting Binary Classifier Training on cuda ---\n"
     ]
    },
    {
     "name": "stderr",
     "output_type": "stream",
     "text": [
      "Epoch 15, Loss: 0.0147: 100%|██████████| 15/15 [13:28<00:00, 53.88s/it, loss=0.0147, lr=0.000010]"
     ]
    },
    {
     "name": "stdout",
     "output_type": "stream",
     "text": [
      "Final training loss: 0.0147\n",
      "--- Binary Classifier Training Finished ---\n"
     ]
    },
    {
     "name": "stderr",
     "output_type": "stream",
     "text": [
      "\n"
     ]
    },
    {
     "data": {
      "text/plain": [
       "<__main__.BinaryClassifierModel at 0x7fe693dbcbf0>"
      ]
     },
     "execution_count": 5,
     "metadata": {},
     "output_type": "execute_result"
    }
   ],
   "source": [
    "generative_model = BinaryClassifierModel(phi_dim=80,\n",
    "                            x_dim = 7,\n",
    "                            n_epochs = 15,\n",
    "                            batch_size = 2**20,\n",
    "                            lr = 1e-2,\n",
    "                            device = 'cuda')\n",
    "generative_model.fit(local_info[0].reshape(-1, 87), local_info[1].reshape(-1, 1))"
   ]
  },
  {
   "cell_type": "code",
   "execution_count": 6,
   "id": "91f41ae7",
   "metadata": {},
   "outputs": [
    {
     "data": {
      "image/png": "[encoded data removed]",
      "text/plain": [
       "<Figure size 640x480 with 1 Axes>"
      ]
     },
     "metadata": {},
     "output_type": "display_data"
    }
   ],
   "source": [
    "plt.figure()\n",
    "plt.plot(generative_model.last_train_loss)\n",
    "plt.xlabel('Epoch')\n",
    "plt.ylabel('Training Loss')\n",
    "plt.title('Surrogate Model Training Loss')\n",
    "plt.grid(True)\n",
    "plt.show() "
   ]
  },
  {
   "cell_type": "code",
   "execution_count": 7,
   "id": "516acbb8",
   "metadata": {},
   "outputs": [],
   "source": [
    "sur_loss = []\n",
    "with torch.no_grad():\n",
    "    for b in local_info[0]:\n",
    "        batch_loss = generative_model.predict_proba(b).sum().cpu()\n",
    "        sur_loss.append(batch_loss)\n",
    "sur_loss = torch.stack(sur_loss)\n",
    "true_loss = local_info[1].sum(1).flatten()"
   ]
  },
  {
   "cell_type": "code",
   "execution_count": 8,
   "id": "691ee604",
   "metadata": {},
   "outputs": [
    {
     "data": {
      "text/plain": [
       "torch.Size([101])"
      ]
     },
     "execution_count": 8,
     "metadata": {},
     "output_type": "execute_result"
    }
   ],
   "source": [
    "true_loss.shape"
   ]
  },
  {
   "cell_type": "code",
   "execution_count": 9,
   "id": "d343347b",
   "metadata": {},
   "outputs": [
    {
     "data": {
      "text/plain": [
       "tensor([  1015.9277,   3904.2615,   2539.6562,   2316.3772,  18354.0000,\n",
       "         25315.8555,  15034.2266,  60210.7930,  84816.4219,   2702.5835,\n",
       "          7419.0703,   7646.1260,   7937.0562,  11241.5312,    502.6646,\n",
       "           401.8620,  19186.1289,   5509.7349,   1838.3898, 108343.1875,\n",
       "          5995.4014,   4475.9736,   2228.3335,  71638.7656,   1765.3268,\n",
       "          2224.7607,  28388.6875,   6434.7129,  26948.6836,  39591.9922,\n",
       "           722.6416,    945.6404,  64283.4805,   3589.7092,   1737.4390,\n",
       "        133645.2188,  51662.3359,   1074.4598,  35671.0703,  28228.2695,\n",
       "          1292.0574,  66778.3281,  28937.9531,   3722.4653,   5952.5098,\n",
       "         39145.2969,  78947.5469, 132913.3594,  13194.2314,   3126.7844,\n",
       "          1806.9382,   2197.1284,   1414.4006,   2249.2236,  21476.5293,\n",
       "         28068.6055,   4059.2134,  84974.7500,   4529.3931,  51545.0625,\n",
       "         64069.9766,   1483.5029,   2934.5542,   6455.8652,   9929.3584,\n",
       "         46477.2188,   3737.4194,  29384.1641,    481.0640,   1215.4573,\n",
       "          2511.6604,   4934.9297,  82248.9062,  20435.9336,   5613.5142,\n",
       "         35336.5117,   2120.8110,   2255.6797,  96615.6719,   3228.3459,\n",
       "        121795.0234,   3940.3860,  10103.4844,  15836.4385,  22963.9355,\n",
       "          2014.4683,   5968.8359,   2626.4966,   3359.0803,   2137.5840,\n",
       "         65992.0625,    824.1793,  10937.9980,  46870.3438,   1359.2092,\n",
       "           827.4906,  16438.4570,  10747.1455,   5915.3076,   2426.4937,\n",
       "          2589.9050])"
      ]
     },
     "execution_count": 9,
     "metadata": {},
     "output_type": "execute_result"
    }
   ],
   "source": [
    "sur_loss"
   ]
  },
  {
   "cell_type": "code",
   "execution_count": 10,
   "id": "b1d16718",
   "metadata": {},
   "outputs": [
    {
     "data": {
      "image/png": "[encoded data removed]",
      "text/plain": [
       "<Figure size 600x600 with 1 Axes>"
      ]
     },
     "metadata": {},
     "output_type": "display_data"
    }
   ],
   "source": [
    "plt.figure(figsize=(6, 6))\n",
    "plt.scatter(true_loss, sur_loss, color='blue', label='Number of hits')\n",
    "plt.plot([true_loss.min().item(), true_loss.max().item()],\n",
    "         [true_loss.min().item(), true_loss.max().item()],\n",
    "         'k--', label='y = x')\n",
    "plt.xlabel('True Loss')\n",
    "plt.ylabel('Surrogate Loss')\n",
    "plt.title('Surrogate vs True Loss')\n",
    "plt.legend()\n",
    "plt.grid(True)\n",
    "plt.show()"
   ]
  },
  {
   "cell_type": "code",
   "execution_count": 11,
   "id": "56449cb0",
   "metadata": {},
   "outputs": [],
   "source": [
    "def get_local_info(phi):\n",
    "    \"\"\"\n",
    "    Computes loss, gradient, and Hessian in a memory-efficient, batched manner.\n",
    "    \"\"\"\n",
    "\n",
    "    phi_norm = normalize_vector(phi, bounds)\n",
    "    x_all = torch.as_tensor(problem.sample_x(), dtype=phi.dtype, device=phi.device)\n",
    "    n = x_all.size(0)\n",
    "\n",
    "    total_loss = torch.tensor(0.0, dtype=phi.dtype, device=phi.device)\n",
    "    total_grad = torch.zeros_like(phi)\n",
    "    total_hess = torch.zeros(phi.numel(), phi.numel(), dtype=phi.dtype, device=phi.device)\n",
    "\n",
    "    def compute_batch_loss(phi_norm, xb):\n",
    "        cond = torch.cat([phi_norm.repeat(xb.size(0), 1), xb[:, :7]], dim=-1)\n",
    "        y_pred = generative_model.predict_proba(cond).cpu()\n",
    "        w = xb[:,7].to(y_pred.device).flatten()\n",
    "        y_pred = y_pred.flatten()\n",
    "        return  (w*y_pred).sum()\n",
    "\n",
    "    grad_func_batch = torch.func.grad(compute_batch_loss)\n",
    "    hess_func_batch = torch.func.hessian(compute_batch_loss)\n",
    "\n",
    "    for start in range(0, n, 5000):\n",
    "        xb = x_all[start: start + 5000]\n",
    "        batch_loss = compute_batch_loss(phi_norm, xb).detach()\n",
    "        batch_grad = grad_func_batch(phi_norm, xb).detach()\n",
    "        batch_hess = hess_func_batch(phi_norm, xb).detach()\n",
    "        total_loss += batch_loss\n",
    "        total_grad += batch_grad\n",
    "        total_hess += batch_hess\n",
    "    return total_loss, total_grad, total_hess\n",
    "\n",
    "def calc_delta_loss_torch(delta_phi: torch.Tensor, \n",
    "                          grad: torch.Tensor, \n",
    "                          hess: torch.Tensor,\n",
    "                          normalize = False) -> float:\n",
    "    \"\"\"\n",
    "    Estimates the change in loss for a given parameter perturbation using PyTorch.\n",
    "\n",
    "    This function uses a second-order Taylor expansion to estimate the change\n",
    "    in the loss function (delta_loss) based on the local gradient and Hessian.\n",
    "\n",
    "    Args:\n",
    "        delta_phi: The expected parameter perturbation (a 1D torch.Tensor).\n",
    "        grad: The gradient of the loss function at the current point (a 1D torch.Tensor).\n",
    "        hess: The Hessian matrix of the loss function at the current point (a 2D torch.Tensor).\n",
    "\n",
    "    Returns:\n",
    "        The estimated change in loss (a scalar float).\n",
    "    \"\"\"\n",
    "    # Linear term: (∇L)ᵀ * δφ\n",
    "    def normalize_delta(d, lower_bound, upper_bound):\n",
    "        return d / (upper_bound - lower_bound)\n",
    "\n",
    "    if normalize: delta_phi = normalize_delta(delta_phi, bounds[0], bounds[1])\n",
    "    linear_term = torch.dot(grad, delta_phi)\n",
    "\n",
    "    # Quadratic term: 0.5 * δφᵀ * H * δφ\n",
    "    # The @ operator performs matrix-vector multiplication\n",
    "    quadratic_term = 0.5 * torch.dot(delta_phi, hess @ delta_phi)\n",
    "\n",
    "    # The result is a 0-dimensional tensor; .item() extracts the Python scalar\n",
    "    return (linear_term + quadratic_term).item()"
   ]
  },
  {
   "cell_type": "code",
   "execution_count": 12,
   "id": "f87e40f1",
   "metadata": {},
   "outputs": [
    {
     "ename": "RuntimeError",
     "evalue": "mat1 and mat2 shapes cannot be multiplied (5000x84 and 87x256)",
     "output_type": "error",
     "traceback": [
      "\u001b[0;31m---------------------------------------------------------------------------\u001b[0m",
      "\u001b[0;31mRuntimeError\u001b[0m                              Traceback (most recent call last)",
      "Cell \u001b[0;32mIn[12], line 1\u001b[0m\n\u001b[0;32m----> 1\u001b[0m sur_loss_initial_phi, grad, hess \u001b[38;5;241m=\u001b[39m \u001b[43mget_local_info\u001b[49m\u001b[43m(\u001b[49m\u001b[43minitial_phi\u001b[49m\u001b[43m)\u001b[49m\n",
      "Cell \u001b[0;32mIn[11], line 26\u001b[0m, in \u001b[0;36mget_local_info\u001b[0;34m(phi)\u001b[0m\n\u001b[1;32m     24\u001b[0m \u001b[38;5;28;01mfor\u001b[39;00m start \u001b[38;5;129;01min\u001b[39;00m \u001b[38;5;28mrange\u001b[39m(\u001b[38;5;241m0\u001b[39m, n, \u001b[38;5;241m5000\u001b[39m):\n\u001b[1;32m     25\u001b[0m     xb \u001b[38;5;241m=\u001b[39m x_all[start: start \u001b[38;5;241m+\u001b[39m \u001b[38;5;241m5000\u001b[39m]\n\u001b[0;32m---> 26\u001b[0m     batch_loss \u001b[38;5;241m=\u001b[39m \u001b[43mcompute_batch_loss\u001b[49m\u001b[43m(\u001b[49m\u001b[43mphi_norm\u001b[49m\u001b[43m,\u001b[49m\u001b[43m \u001b[49m\u001b[43mxb\u001b[49m\u001b[43m)\u001b[49m\u001b[38;5;241m.\u001b[39mdetach()\n\u001b[1;32m     27\u001b[0m     batch_grad \u001b[38;5;241m=\u001b[39m grad_func_batch(phi_norm, xb)\u001b[38;5;241m.\u001b[39mdetach()\n\u001b[1;32m     28\u001b[0m     batch_hess \u001b[38;5;241m=\u001b[39m hess_func_batch(phi_norm, xb)\u001b[38;5;241m.\u001b[39mdetach()\n",
      "Cell \u001b[0;32mIn[11], line 16\u001b[0m, in \u001b[0;36mget_local_info.<locals>.compute_batch_loss\u001b[0;34m(phi_norm, xb)\u001b[0m\n\u001b[1;32m     14\u001b[0m \u001b[38;5;28;01mdef\u001b[39;00m\u001b[38;5;250m \u001b[39m\u001b[38;5;21mcompute_batch_loss\u001b[39m(phi_norm, xb):\n\u001b[1;32m     15\u001b[0m     cond \u001b[38;5;241m=\u001b[39m torch\u001b[38;5;241m.\u001b[39mcat([phi_norm\u001b[38;5;241m.\u001b[39mrepeat(xb\u001b[38;5;241m.\u001b[39msize(\u001b[38;5;241m0\u001b[39m), \u001b[38;5;241m1\u001b[39m), xb[:, :\u001b[38;5;241m7\u001b[39m]], dim\u001b[38;5;241m=\u001b[39m\u001b[38;5;241m-\u001b[39m\u001b[38;5;241m1\u001b[39m)\n\u001b[0;32m---> 16\u001b[0m     y_pred \u001b[38;5;241m=\u001b[39m \u001b[43mgenerative_model\u001b[49m\u001b[38;5;241;43m.\u001b[39;49m\u001b[43mpredict_proba\u001b[49m\u001b[43m(\u001b[49m\u001b[43mcond\u001b[49m\u001b[43m)\u001b[49m\u001b[38;5;241m.\u001b[39mcpu()\n\u001b[1;32m     17\u001b[0m     w \u001b[38;5;241m=\u001b[39m xb[:,\u001b[38;5;241m7\u001b[39m]\u001b[38;5;241m.\u001b[39mto(y_pred\u001b[38;5;241m.\u001b[39mdevice)\u001b[38;5;241m.\u001b[39mflatten()\n\u001b[1;32m     18\u001b[0m     y_pred \u001b[38;5;241m=\u001b[39m y_pred\u001b[38;5;241m.\u001b[39mflatten()\n",
      "Cell \u001b[0;32mIn[3], line 95\u001b[0m, in \u001b[0;36mBinaryClassifierModel.predict_proba\u001b[0;34m(self, condition)\u001b[0m\n\u001b[1;32m     93\u001b[0m \u001b[38;5;28mself\u001b[39m\u001b[38;5;241m.\u001b[39mmodel\u001b[38;5;241m.\u001b[39meval()\n\u001b[1;32m     94\u001b[0m condition \u001b[38;5;241m=\u001b[39m condition\u001b[38;5;241m.\u001b[39mto(\u001b[38;5;28mself\u001b[39m\u001b[38;5;241m.\u001b[39mdevice)\n\u001b[0;32m---> 95\u001b[0m y_pred_logits \u001b[38;5;241m=\u001b[39m \u001b[38;5;28;43mself\u001b[39;49m\u001b[38;5;241;43m.\u001b[39;49m\u001b[43mmodel\u001b[49m\u001b[43m(\u001b[49m\u001b[43mcondition\u001b[49m\u001b[43m)\u001b[49m\n\u001b[1;32m     96\u001b[0m y_pred_prob \u001b[38;5;241m=\u001b[39m torch\u001b[38;5;241m.\u001b[39msigmoid(y_pred_logits)\n\u001b[1;32m     98\u001b[0m \u001b[38;5;28;01mreturn\u001b[39;00m y_pred_prob\n",
      "File \u001b[0;32m/disk/users/lprate/miniconda3/lib/python3.12/site-packages/torch/nn/modules/module.py:1751\u001b[0m, in \u001b[0;36mModule._wrapped_call_impl\u001b[0;34m(self, *args, **kwargs)\u001b[0m\n\u001b[1;32m   1749\u001b[0m     \u001b[38;5;28;01mreturn\u001b[39;00m \u001b[38;5;28mself\u001b[39m\u001b[38;5;241m.\u001b[39m_compiled_call_impl(\u001b[38;5;241m*\u001b[39margs, \u001b[38;5;241m*\u001b[39m\u001b[38;5;241m*\u001b[39mkwargs)  \u001b[38;5;66;03m# type: ignore[misc]\u001b[39;00m\n\u001b[1;32m   1750\u001b[0m \u001b[38;5;28;01melse\u001b[39;00m:\n\u001b[0;32m-> 1751\u001b[0m     \u001b[38;5;28;01mreturn\u001b[39;00m \u001b[38;5;28;43mself\u001b[39;49m\u001b[38;5;241;43m.\u001b[39;49m\u001b[43m_call_impl\u001b[49m\u001b[43m(\u001b[49m\u001b[38;5;241;43m*\u001b[39;49m\u001b[43margs\u001b[49m\u001b[43m,\u001b[49m\u001b[43m \u001b[49m\u001b[38;5;241;43m*\u001b[39;49m\u001b[38;5;241;43m*\u001b[39;49m\u001b[43mkwargs\u001b[49m\u001b[43m)\u001b[49m\n",
      "File \u001b[0;32m/disk/users/lprate/miniconda3/lib/python3.12/site-packages/torch/nn/modules/module.py:1762\u001b[0m, in \u001b[0;36mModule._call_impl\u001b[0;34m(self, *args, **kwargs)\u001b[0m\n\u001b[1;32m   1757\u001b[0m \u001b[38;5;66;03m# If we don't have any hooks, we want to skip the rest of the logic in\u001b[39;00m\n\u001b[1;32m   1758\u001b[0m \u001b[38;5;66;03m# this function, and just call forward.\u001b[39;00m\n\u001b[1;32m   1759\u001b[0m \u001b[38;5;28;01mif\u001b[39;00m \u001b[38;5;129;01mnot\u001b[39;00m (\u001b[38;5;28mself\u001b[39m\u001b[38;5;241m.\u001b[39m_backward_hooks \u001b[38;5;129;01mor\u001b[39;00m \u001b[38;5;28mself\u001b[39m\u001b[38;5;241m.\u001b[39m_backward_pre_hooks \u001b[38;5;129;01mor\u001b[39;00m \u001b[38;5;28mself\u001b[39m\u001b[38;5;241m.\u001b[39m_forward_hooks \u001b[38;5;129;01mor\u001b[39;00m \u001b[38;5;28mself\u001b[39m\u001b[38;5;241m.\u001b[39m_forward_pre_hooks\n\u001b[1;32m   1760\u001b[0m         \u001b[38;5;129;01mor\u001b[39;00m _global_backward_pre_hooks \u001b[38;5;129;01mor\u001b[39;00m _global_backward_hooks\n\u001b[1;32m   1761\u001b[0m         \u001b[38;5;129;01mor\u001b[39;00m _global_forward_hooks \u001b[38;5;129;01mor\u001b[39;00m _global_forward_pre_hooks):\n\u001b[0;32m-> 1762\u001b[0m     \u001b[38;5;28;01mreturn\u001b[39;00m \u001b[43mforward_call\u001b[49m\u001b[43m(\u001b[49m\u001b[38;5;241;43m*\u001b[39;49m\u001b[43margs\u001b[49m\u001b[43m,\u001b[49m\u001b[43m \u001b[49m\u001b[38;5;241;43m*\u001b[39;49m\u001b[38;5;241;43m*\u001b[39;49m\u001b[43mkwargs\u001b[49m\u001b[43m)\u001b[49m\n\u001b[1;32m   1764\u001b[0m result \u001b[38;5;241m=\u001b[39m \u001b[38;5;28;01mNone\u001b[39;00m\n\u001b[1;32m   1765\u001b[0m called_always_called_hooks \u001b[38;5;241m=\u001b[39m \u001b[38;5;28mset\u001b[39m()\n",
      "File \u001b[0;32m/disk/users/lprate/miniconda3/lib/python3.12/site-packages/torch/nn/modules/container.py:240\u001b[0m, in \u001b[0;36mSequential.forward\u001b[0;34m(self, input)\u001b[0m\n\u001b[1;32m    238\u001b[0m \u001b[38;5;28;01mdef\u001b[39;00m\u001b[38;5;250m \u001b[39m\u001b[38;5;21mforward\u001b[39m(\u001b[38;5;28mself\u001b[39m, \u001b[38;5;28minput\u001b[39m):\n\u001b[1;32m    239\u001b[0m     \u001b[38;5;28;01mfor\u001b[39;00m module \u001b[38;5;129;01min\u001b[39;00m \u001b[38;5;28mself\u001b[39m:\n\u001b[0;32m--> 240\u001b[0m         \u001b[38;5;28minput\u001b[39m \u001b[38;5;241m=\u001b[39m \u001b[43mmodule\u001b[49m\u001b[43m(\u001b[49m\u001b[38;5;28;43minput\u001b[39;49m\u001b[43m)\u001b[49m\n\u001b[1;32m    241\u001b[0m     \u001b[38;5;28;01mreturn\u001b[39;00m \u001b[38;5;28minput\u001b[39m\n",
      "File \u001b[0;32m/disk/users/lprate/miniconda3/lib/python3.12/site-packages/torch/nn/modules/module.py:1751\u001b[0m, in \u001b[0;36mModule._wrapped_call_impl\u001b[0;34m(self, *args, **kwargs)\u001b[0m\n\u001b[1;32m   1749\u001b[0m     \u001b[38;5;28;01mreturn\u001b[39;00m \u001b[38;5;28mself\u001b[39m\u001b[38;5;241m.\u001b[39m_compiled_call_impl(\u001b[38;5;241m*\u001b[39margs, \u001b[38;5;241m*\u001b[39m\u001b[38;5;241m*\u001b[39mkwargs)  \u001b[38;5;66;03m# type: ignore[misc]\u001b[39;00m\n\u001b[1;32m   1750\u001b[0m \u001b[38;5;28;01melse\u001b[39;00m:\n\u001b[0;32m-> 1751\u001b[0m     \u001b[38;5;28;01mreturn\u001b[39;00m \u001b[38;5;28;43mself\u001b[39;49m\u001b[38;5;241;43m.\u001b[39;49m\u001b[43m_call_impl\u001b[49m\u001b[43m(\u001b[49m\u001b[38;5;241;43m*\u001b[39;49m\u001b[43margs\u001b[49m\u001b[43m,\u001b[49m\u001b[43m \u001b[49m\u001b[38;5;241;43m*\u001b[39;49m\u001b[38;5;241;43m*\u001b[39;49m\u001b[43mkwargs\u001b[49m\u001b[43m)\u001b[49m\n",
      "File \u001b[0;32m/disk/users/lprate/miniconda3/lib/python3.12/site-packages/torch/nn/modules/module.py:1762\u001b[0m, in \u001b[0;36mModule._call_impl\u001b[0;34m(self, *args, **kwargs)\u001b[0m\n\u001b[1;32m   1757\u001b[0m \u001b[38;5;66;03m# If we don't have any hooks, we want to skip the rest of the logic in\u001b[39;00m\n\u001b[1;32m   1758\u001b[0m \u001b[38;5;66;03m# this function, and just call forward.\u001b[39;00m\n\u001b[1;32m   1759\u001b[0m \u001b[38;5;28;01mif\u001b[39;00m \u001b[38;5;129;01mnot\u001b[39;00m (\u001b[38;5;28mself\u001b[39m\u001b[38;5;241m.\u001b[39m_backward_hooks \u001b[38;5;129;01mor\u001b[39;00m \u001b[38;5;28mself\u001b[39m\u001b[38;5;241m.\u001b[39m_backward_pre_hooks \u001b[38;5;129;01mor\u001b[39;00m \u001b[38;5;28mself\u001b[39m\u001b[38;5;241m.\u001b[39m_forward_hooks \u001b[38;5;129;01mor\u001b[39;00m \u001b[38;5;28mself\u001b[39m\u001b[38;5;241m.\u001b[39m_forward_pre_hooks\n\u001b[1;32m   1760\u001b[0m         \u001b[38;5;129;01mor\u001b[39;00m _global_backward_pre_hooks \u001b[38;5;129;01mor\u001b[39;00m _global_backward_hooks\n\u001b[1;32m   1761\u001b[0m         \u001b[38;5;129;01mor\u001b[39;00m _global_forward_hooks \u001b[38;5;129;01mor\u001b[39;00m _global_forward_pre_hooks):\n\u001b[0;32m-> 1762\u001b[0m     \u001b[38;5;28;01mreturn\u001b[39;00m \u001b[43mforward_call\u001b[49m\u001b[43m(\u001b[49m\u001b[38;5;241;43m*\u001b[39;49m\u001b[43margs\u001b[49m\u001b[43m,\u001b[49m\u001b[43m \u001b[49m\u001b[38;5;241;43m*\u001b[39;49m\u001b[38;5;241;43m*\u001b[39;49m\u001b[43mkwargs\u001b[49m\u001b[43m)\u001b[49m\n\u001b[1;32m   1764\u001b[0m result \u001b[38;5;241m=\u001b[39m \u001b[38;5;28;01mNone\u001b[39;00m\n\u001b[1;32m   1765\u001b[0m called_always_called_hooks \u001b[38;5;241m=\u001b[39m \u001b[38;5;28mset\u001b[39m()\n",
      "File \u001b[0;32m/disk/users/lprate/miniconda3/lib/python3.12/site-packages/torch/nn/modules/linear.py:125\u001b[0m, in \u001b[0;36mLinear.forward\u001b[0;34m(self, input)\u001b[0m\n\u001b[1;32m    124\u001b[0m \u001b[38;5;28;01mdef\u001b[39;00m\u001b[38;5;250m \u001b[39m\u001b[38;5;21mforward\u001b[39m(\u001b[38;5;28mself\u001b[39m, \u001b[38;5;28minput\u001b[39m: Tensor) \u001b[38;5;241m-\u001b[39m\u001b[38;5;241m>\u001b[39m Tensor:\n\u001b[0;32m--> 125\u001b[0m     \u001b[38;5;28;01mreturn\u001b[39;00m \u001b[43mF\u001b[49m\u001b[38;5;241;43m.\u001b[39;49m\u001b[43mlinear\u001b[49m\u001b[43m(\u001b[49m\u001b[38;5;28;43minput\u001b[39;49m\u001b[43m,\u001b[49m\u001b[43m \u001b[49m\u001b[38;5;28;43mself\u001b[39;49m\u001b[38;5;241;43m.\u001b[39;49m\u001b[43mweight\u001b[49m\u001b[43m,\u001b[49m\u001b[43m \u001b[49m\u001b[38;5;28;43mself\u001b[39;49m\u001b[38;5;241;43m.\u001b[39;49m\u001b[43mbias\u001b[49m\u001b[43m)\u001b[49m\n",
      "\u001b[0;31mRuntimeError\u001b[0m: mat1 and mat2 shapes cannot be multiplied (5000x84 and 87x256)"
     ]
    }
   ],
   "source": [
    "sur_loss_initial_phi, grad, hess = get_local_info(initial_phi)"
   ]
  },
  {
   "cell_type": "code",
   "execution_count": null,
   "id": "708992ff",
   "metadata": {},
   "outputs": [],
   "source": [
    "print(f\"Initial True Loss: {true_loss[0].item()}\")\n",
    "print(f\"Initial Hessian: {hess}\")\n",
    "eigenvalues, eigenvectors = torch.linalg.eigh(hess)\n",
    "# Sort eigenvalues and eigenvectors by eigenvalue (descending)\n",
    "sorted_indices = torch.argsort(eigenvalues, descending=True)\n",
    "eigenvalues = eigenvalues[sorted_indices]\n",
    "eigenvectors = eigenvectors[:, sorted_indices]\n",
    "print(f\"Hessian eigenvalues: {eigenvalues}\")\n",
    "for idx, (eigval, eigvec) in enumerate(zip(eigenvalues, eigenvectors.T)):\n",
    "    print(f\"Eigenvalue {idx}: {eigval.item()}\")\n",
    "    print(f\"Eigenvector {idx}: {eigvec}\")\n",
    "alphas = np.linspace(-2, 2, 100)\n",
    "print(f\"Initial Surrogate Loss: {sur_loss[0].item()}\")\n",
    "print(f\"Initial Gradient: {grad}\")"
   ]
  },
  {
   "cell_type": "code",
   "execution_count": null,
   "id": "0a28af21",
   "metadata": {},
   "outputs": [],
   "source": [
    "grad"
   ]
  },
  {
   "cell_type": "code",
   "execution_count": null,
   "id": "5793e2b9",
   "metadata": {},
   "outputs": [],
   "source": [
    "unnormalized_vec = eigenvectors.T[0] * (bounds[1] - bounds[0]) + bounds[0]\n",
    "unnormalized_vec"
   ]
  },
  {
   "cell_type": "code",
   "execution_count": null,
   "id": "05600540",
   "metadata": {},
   "outputs": [],
   "source": [
    "# --- New plot: all delta_phi directions in one figure with subplots (2 columns) ---\n",
    "fig, axes = plt.subplots(nrows=(len(eigenvectors.T)+1)//2, ncols=2, figsize=(12, 3*((len(eigenvectors.T)+1)//2)))\n",
    "axes = axes.flatten()\n",
    "for idx, eigvec in enumerate(eigenvectors.T):\n",
    "    delta_losses = []\n",
    "    for alpha in alphas:\n",
    "        delta_phi = alpha * eigvec\n",
    "        delta_loss = calc_delta_loss_torch(delta_phi, grad, hess, normalize=False)\n",
    "        delta_losses.append(delta_loss+ sur_loss_initial_phi.item())\n",
    "    axes[idx].plot(alphas, delta_losses)\n",
    "    axes[idx].set_xlabel('alpha')\n",
    "    axes[idx].set_ylabel('Delta Loss')\n",
    "    axes[idx].set_title(f'Eigenvector {idx}')\n",
    "    axes[idx].grid(True)\n",
    "# Hide unused subplots if any\n",
    "for ax in axes[len(eigenvectors.T):]:\n",
    "    ax.axis('off')\n",
    "plt.tight_layout()\n",
    "plt.show()"
   ]
  },
  {
   "cell_type": "code",
   "execution_count": null,
   "id": "49fe5209",
   "metadata": {},
   "outputs": [],
   "source": [
    "# --- Plot all delta_phi directions in one single plot ---\n",
    "plt.figure(figsize=(10, 6))\n",
    "d_phi = grad\n",
    "for idx, eigvec in enumerate(eigenvectors.T):\n",
    "    delta_losses = []\n",
    "    for alpha in alphas:\n",
    "        delta_phi = alpha * d_phi\n",
    "        delta_loss = calc_delta_loss_torch(delta_phi, grad, hess, normalize=False)\n",
    "        delta_losses.append(delta_loss + sur_loss_initial_phi.item())\n",
    "    plt.plot(alphas, delta_losses, label=f'Eigenvector {idx}')\n",
    "plt.xlabel('alpha')\n",
    "plt.ylabel('Delta Loss')\n",
    "plt.title('Delta Loss along Eigenvector Directions')\n",
    "plt.legend()\n",
    "plt.grid(True)\n",
    "plt.tight_layout()\n",
    "plt.show()\n"
   ]
  }
 ],
 "metadata": {
  "kernelspec": {
   "display_name": "base",
   "language": "python",
   "name": "python3"
  },
  "language_info": {
   "codemirror_mode": {
    "name": "ipython",
    "version": 3
   },
   "file_extension": ".py",
   "mimetype": "text/x-python",
   "name": "python",
   "nbconvert_exporter": "python",
   "pygments_lexer": "ipython3",
   "version": "3.12.2"
  }
 },
 "nbformat": 4,
 "nbformat_minor": 5
}
